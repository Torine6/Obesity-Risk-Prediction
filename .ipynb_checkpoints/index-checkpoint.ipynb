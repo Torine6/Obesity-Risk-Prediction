{
 "cells": [
  {
   "cell_type": "markdown",
   "metadata": {},
   "source": [
    "# Obesity Risk Prediction: A Machine Learning Approach"
   ]
  },
  {
   "cell_type": "markdown",
   "metadata": {},
   "source": [
    "![Alt Text](images/obesity.jpg)"
   ]
  },
  {
   "cell_type": "markdown",
   "metadata": {},
   "source": [
    "# Business Understanding\n",
    "Obesity and overweight can be defined as abnormal or excessive fat build-up that poses a risk to health. Obesity often results from taking in more calories than are burned by exercise and normal daily activities. Obesity occurs when a person's body mass index is 30 or greater. Body mass index (BMI) is a measure of body fat based on height and weight. The rising rate of obesity in the medical field poses significant challenges to both patients and healthcare providers. Addressing obesity at an early stage is important for preventive healthcare and overall well-being. Our business centers around leveraging advanced machine learning techniques to predict the risk of obesity, providing valuable insights for healthcare providers to proactively intervene and offer personalized care.\n",
    "\n",
    "The key stakeholders are healthcare providers. They include physicians, nurses, dietitians, and other healthcare professionals who are involved in patient care. Patients also benefit from personalized healthcare interventions based on their obesity risk. Healthcare systems are responsible for implementing and integrating the predictive model into existing healthcare frameworks."
   ]
  },
  {
   "cell_type": "markdown",
   "metadata": {},
   "source": [
    "## Problem Statement\n",
    "Overweight and obesity are major risk factors for a number of chronic diseases, including cardiovascular diseases such as heart disease and stroke, which are the leading causes of death worldwide. Rates of overweight and obesity continue to grow in adults and children. Once considered a problem only in high-income countries, overweight and obesity are now dramatically on the rise in low- and middle-income countries, particularly in urban areas. Obesity in childhood is associated with a wide range of serious health complications and an increased risk of premature onset of related illnesses. Without intervention, children and adolescents with obesity will likely continue to be obese into adulthood. \n",
    "The goal is to develop a robust and accurate obesity risk prediction model. This model aims to evaluate an individual's likelihood of being classified as at-risk for obesity based on a set of pertinent features. This will enhance the ability to identify individuals at risk of obesity early on, allowing for proactive intervention and personalized health plans."
   ]
  },
  {
   "cell_type": "markdown",
   "metadata": {},
   "source": [
    "## Objectives\n",
    "- To explore the relationship between obesity and key features such as weight, height, age and gender. Determine if these features contribute to the likelihood of obesity.\n",
    "- To develop a machine learning model capable of predicting obesity risk based on individual characteristics as input variables.\n",
    "- To optimize the predictive accuracy of the model, ensuring reliable and actionable results for healthcare providers. Ensure the model provides interpretable insights, allowing healthcare professionals to understand and trust the predictions."
   ]
  },
  {
   "cell_type": "markdown",
   "metadata": {},
   "source": [
    "# Data Understanding\n",
    "The data consists of the estimation of obesity levels in people from the countries of Mexico, Peru and Colombia, with ages between 14 and 61 and diverse eating habits and physical conditions. It can be found in the file `ObesityDataSet.csv`."
   ]
  },
  {
   "cell_type": "code",
   "execution_count": 1,
   "metadata": {},
   "outputs": [],
   "source": [
    "# Import the necessary libraries\n",
    "import pandas as pd\n",
    "import numpy as np\n",
    "import matplotlib.pyplot as plt\n",
    "import seaborn as sns\n",
    "\n",
    "from sklearn.preprocessing import LabelEncoder, OrdinalEncoder, MinMaxScaler, StandardScaler\n",
    "from sklearn.model_selection import train_test_split, cross_val_score, GridSearchCV, StratifiedKFold, learning_curve\n",
    "from sklearn.linear_model import LogisticRegression\n",
    "from sklearn.metrics import accuracy_score, classification_report, precision_score, recall_score, f1_score, make_scorer\n",
    "from imblearn.over_sampling import SMOTE\n",
    "from sklearn.ensemble import RandomForestClassifier\n",
    "from xgboost import XGBClassifier"
   ]
  },
  {
   "cell_type": "code",
   "execution_count": 2,
   "metadata": {},
   "outputs": [],
   "source": [
    "# Load the file into a DataFrame\n",
    "df = pd.read_csv(\"ObesityDataSet.csv\")"
   ]
  },
  {
   "cell_type": "code",
   "execution_count": 3,
   "metadata": {},
   "outputs": [
    {
     "data": {
      "text/plain": [
       "(2111, 17)"
      ]
     },
     "execution_count": 3,
     "metadata": {},
     "output_type": "execute_result"
    }
   ],
   "source": [
    "# Check the shape of the DataFrame\n",
    "df.shape"
   ]
  },
  {
   "cell_type": "code",
   "execution_count": 4,
   "metadata": {},
   "outputs": [
    {
     "data": {
      "text/html": [
       "<div>\n",
       "<style scoped>\n",
       "    .dataframe tbody tr th:only-of-type {\n",
       "        vertical-align: middle;\n",
       "    }\n",
       "\n",
       "    .dataframe tbody tr th {\n",
       "        vertical-align: top;\n",
       "    }\n",
       "\n",
       "    .dataframe thead th {\n",
       "        text-align: right;\n",
       "    }\n",
       "</style>\n",
       "<table border=\"1\" class=\"dataframe\">\n",
       "  <thead>\n",
       "    <tr style=\"text-align: right;\">\n",
       "      <th></th>\n",
       "      <th>Gender</th>\n",
       "      <th>Age</th>\n",
       "      <th>Height</th>\n",
       "      <th>Weight</th>\n",
       "      <th>family_history_with_overweight</th>\n",
       "      <th>FAVC</th>\n",
       "      <th>FCVC</th>\n",
       "      <th>NCP</th>\n",
       "      <th>CAEC</th>\n",
       "      <th>SMOKE</th>\n",
       "      <th>CH2O</th>\n",
       "      <th>SCC</th>\n",
       "      <th>FAF</th>\n",
       "      <th>TUE</th>\n",
       "      <th>CALC</th>\n",
       "      <th>MTRANS</th>\n",
       "      <th>NObeyesdad</th>\n",
       "    </tr>\n",
       "  </thead>\n",
       "  <tbody>\n",
       "    <tr>\n",
       "      <th>0</th>\n",
       "      <td>Female</td>\n",
       "      <td>21.0</td>\n",
       "      <td>1.62</td>\n",
       "      <td>64.0</td>\n",
       "      <td>yes</td>\n",
       "      <td>no</td>\n",
       "      <td>2.0</td>\n",
       "      <td>3.0</td>\n",
       "      <td>Sometimes</td>\n",
       "      <td>no</td>\n",
       "      <td>2.0</td>\n",
       "      <td>no</td>\n",
       "      <td>0.0</td>\n",
       "      <td>1.0</td>\n",
       "      <td>no</td>\n",
       "      <td>Public_Transportation</td>\n",
       "      <td>Normal_Weight</td>\n",
       "    </tr>\n",
       "    <tr>\n",
       "      <th>1</th>\n",
       "      <td>Female</td>\n",
       "      <td>21.0</td>\n",
       "      <td>1.52</td>\n",
       "      <td>56.0</td>\n",
       "      <td>yes</td>\n",
       "      <td>no</td>\n",
       "      <td>3.0</td>\n",
       "      <td>3.0</td>\n",
       "      <td>Sometimes</td>\n",
       "      <td>yes</td>\n",
       "      <td>3.0</td>\n",
       "      <td>yes</td>\n",
       "      <td>3.0</td>\n",
       "      <td>0.0</td>\n",
       "      <td>Sometimes</td>\n",
       "      <td>Public_Transportation</td>\n",
       "      <td>Normal_Weight</td>\n",
       "    </tr>\n",
       "    <tr>\n",
       "      <th>2</th>\n",
       "      <td>Male</td>\n",
       "      <td>23.0</td>\n",
       "      <td>1.80</td>\n",
       "      <td>77.0</td>\n",
       "      <td>yes</td>\n",
       "      <td>no</td>\n",
       "      <td>2.0</td>\n",
       "      <td>3.0</td>\n",
       "      <td>Sometimes</td>\n",
       "      <td>no</td>\n",
       "      <td>2.0</td>\n",
       "      <td>no</td>\n",
       "      <td>2.0</td>\n",
       "      <td>1.0</td>\n",
       "      <td>Frequently</td>\n",
       "      <td>Public_Transportation</td>\n",
       "      <td>Normal_Weight</td>\n",
       "    </tr>\n",
       "    <tr>\n",
       "      <th>3</th>\n",
       "      <td>Male</td>\n",
       "      <td>27.0</td>\n",
       "      <td>1.80</td>\n",
       "      <td>87.0</td>\n",
       "      <td>no</td>\n",
       "      <td>no</td>\n",
       "      <td>3.0</td>\n",
       "      <td>3.0</td>\n",
       "      <td>Sometimes</td>\n",
       "      <td>no</td>\n",
       "      <td>2.0</td>\n",
       "      <td>no</td>\n",
       "      <td>2.0</td>\n",
       "      <td>0.0</td>\n",
       "      <td>Frequently</td>\n",
       "      <td>Walking</td>\n",
       "      <td>Overweight_Level_I</td>\n",
       "    </tr>\n",
       "    <tr>\n",
       "      <th>4</th>\n",
       "      <td>Male</td>\n",
       "      <td>22.0</td>\n",
       "      <td>1.78</td>\n",
       "      <td>89.8</td>\n",
       "      <td>no</td>\n",
       "      <td>no</td>\n",
       "      <td>2.0</td>\n",
       "      <td>1.0</td>\n",
       "      <td>Sometimes</td>\n",
       "      <td>no</td>\n",
       "      <td>2.0</td>\n",
       "      <td>no</td>\n",
       "      <td>0.0</td>\n",
       "      <td>0.0</td>\n",
       "      <td>Sometimes</td>\n",
       "      <td>Public_Transportation</td>\n",
       "      <td>Overweight_Level_II</td>\n",
       "    </tr>\n",
       "  </tbody>\n",
       "</table>\n",
       "</div>"
      ],
      "text/plain": [
       "   Gender   Age  Height  Weight family_history_with_overweight FAVC  FCVC  \\\n",
       "0  Female  21.0    1.62    64.0                            yes   no   2.0   \n",
       "1  Female  21.0    1.52    56.0                            yes   no   3.0   \n",
       "2    Male  23.0    1.80    77.0                            yes   no   2.0   \n",
       "3    Male  27.0    1.80    87.0                             no   no   3.0   \n",
       "4    Male  22.0    1.78    89.8                             no   no   2.0   \n",
       "\n",
       "   NCP       CAEC SMOKE  CH2O  SCC  FAF  TUE        CALC  \\\n",
       "0  3.0  Sometimes    no   2.0   no  0.0  1.0          no   \n",
       "1  3.0  Sometimes   yes   3.0  yes  3.0  0.0   Sometimes   \n",
       "2  3.0  Sometimes    no   2.0   no  2.0  1.0  Frequently   \n",
       "3  3.0  Sometimes    no   2.0   no  2.0  0.0  Frequently   \n",
       "4  1.0  Sometimes    no   2.0   no  0.0  0.0   Sometimes   \n",
       "\n",
       "                  MTRANS           NObeyesdad  \n",
       "0  Public_Transportation        Normal_Weight  \n",
       "1  Public_Transportation        Normal_Weight  \n",
       "2  Public_Transportation        Normal_Weight  \n",
       "3                Walking   Overweight_Level_I  \n",
       "4  Public_Transportation  Overweight_Level_II  "
      ]
     },
     "execution_count": 4,
     "metadata": {},
     "output_type": "execute_result"
    }
   ],
   "source": [
    "# Inspect the first few rows of the DataFrame\n",
    "df.head()"
   ]
  },
  {
   "cell_type": "code",
   "execution_count": 5,
   "metadata": {},
   "outputs": [
    {
     "name": "stdout",
     "output_type": "stream",
     "text": [
      "<class 'pandas.core.frame.DataFrame'>\n",
      "RangeIndex: 2111 entries, 0 to 2110\n",
      "Data columns (total 17 columns):\n",
      " #   Column                          Non-Null Count  Dtype  \n",
      "---  ------                          --------------  -----  \n",
      " 0   Gender                          2111 non-null   object \n",
      " 1   Age                             2111 non-null   float64\n",
      " 2   Height                          2111 non-null   float64\n",
      " 3   Weight                          2111 non-null   float64\n",
      " 4   family_history_with_overweight  2111 non-null   object \n",
      " 5   FAVC                            2111 non-null   object \n",
      " 6   FCVC                            2111 non-null   float64\n",
      " 7   NCP                             2111 non-null   float64\n",
      " 8   CAEC                            2111 non-null   object \n",
      " 9   SMOKE                           2111 non-null   object \n",
      " 10  CH2O                            2111 non-null   float64\n",
      " 11  SCC                             2111 non-null   object \n",
      " 12  FAF                             2111 non-null   float64\n",
      " 13  TUE                             2111 non-null   float64\n",
      " 14  CALC                            2111 non-null   object \n",
      " 15  MTRANS                          2111 non-null   object \n",
      " 16  NObeyesdad                      2111 non-null   object \n",
      "dtypes: float64(8), object(9)\n",
      "memory usage: 280.5+ KB\n"
     ]
    }
   ],
   "source": [
    "# Checking the structure and contents of the DataFrame\n",
    "df.info()"
   ]
  },
  {
   "cell_type": "code",
   "execution_count": 6,
   "metadata": {},
   "outputs": [
    {
     "data": {
      "text/html": [
       "<div>\n",
       "<style scoped>\n",
       "    .dataframe tbody tr th:only-of-type {\n",
       "        vertical-align: middle;\n",
       "    }\n",
       "\n",
       "    .dataframe tbody tr th {\n",
       "        vertical-align: top;\n",
       "    }\n",
       "\n",
       "    .dataframe thead th {\n",
       "        text-align: right;\n",
       "    }\n",
       "</style>\n",
       "<table border=\"1\" class=\"dataframe\">\n",
       "  <thead>\n",
       "    <tr style=\"text-align: right;\">\n",
       "      <th></th>\n",
       "      <th>Age</th>\n",
       "      <th>Height</th>\n",
       "      <th>Weight</th>\n",
       "      <th>FCVC</th>\n",
       "      <th>NCP</th>\n",
       "      <th>CH2O</th>\n",
       "      <th>FAF</th>\n",
       "      <th>TUE</th>\n",
       "    </tr>\n",
       "  </thead>\n",
       "  <tbody>\n",
       "    <tr>\n",
       "      <th>count</th>\n",
       "      <td>2111.000000</td>\n",
       "      <td>2111.000000</td>\n",
       "      <td>2111.000000</td>\n",
       "      <td>2111.000000</td>\n",
       "      <td>2111.000000</td>\n",
       "      <td>2111.000000</td>\n",
       "      <td>2111.000000</td>\n",
       "      <td>2111.000000</td>\n",
       "    </tr>\n",
       "    <tr>\n",
       "      <th>mean</th>\n",
       "      <td>24.312600</td>\n",
       "      <td>1.701677</td>\n",
       "      <td>86.586058</td>\n",
       "      <td>2.419043</td>\n",
       "      <td>2.685628</td>\n",
       "      <td>2.008011</td>\n",
       "      <td>1.010298</td>\n",
       "      <td>0.657866</td>\n",
       "    </tr>\n",
       "    <tr>\n",
       "      <th>std</th>\n",
       "      <td>6.345968</td>\n",
       "      <td>0.093305</td>\n",
       "      <td>26.191172</td>\n",
       "      <td>0.533927</td>\n",
       "      <td>0.778039</td>\n",
       "      <td>0.612953</td>\n",
       "      <td>0.850592</td>\n",
       "      <td>0.608927</td>\n",
       "    </tr>\n",
       "    <tr>\n",
       "      <th>min</th>\n",
       "      <td>14.000000</td>\n",
       "      <td>1.450000</td>\n",
       "      <td>39.000000</td>\n",
       "      <td>1.000000</td>\n",
       "      <td>1.000000</td>\n",
       "      <td>1.000000</td>\n",
       "      <td>0.000000</td>\n",
       "      <td>0.000000</td>\n",
       "    </tr>\n",
       "    <tr>\n",
       "      <th>25%</th>\n",
       "      <td>19.947192</td>\n",
       "      <td>1.630000</td>\n",
       "      <td>65.473343</td>\n",
       "      <td>2.000000</td>\n",
       "      <td>2.658738</td>\n",
       "      <td>1.584812</td>\n",
       "      <td>0.124505</td>\n",
       "      <td>0.000000</td>\n",
       "    </tr>\n",
       "    <tr>\n",
       "      <th>50%</th>\n",
       "      <td>22.777890</td>\n",
       "      <td>1.700499</td>\n",
       "      <td>83.000000</td>\n",
       "      <td>2.385502</td>\n",
       "      <td>3.000000</td>\n",
       "      <td>2.000000</td>\n",
       "      <td>1.000000</td>\n",
       "      <td>0.625350</td>\n",
       "    </tr>\n",
       "    <tr>\n",
       "      <th>75%</th>\n",
       "      <td>26.000000</td>\n",
       "      <td>1.768464</td>\n",
       "      <td>107.430682</td>\n",
       "      <td>3.000000</td>\n",
       "      <td>3.000000</td>\n",
       "      <td>2.477420</td>\n",
       "      <td>1.666678</td>\n",
       "      <td>1.000000</td>\n",
       "    </tr>\n",
       "    <tr>\n",
       "      <th>max</th>\n",
       "      <td>61.000000</td>\n",
       "      <td>1.980000</td>\n",
       "      <td>173.000000</td>\n",
       "      <td>3.000000</td>\n",
       "      <td>4.000000</td>\n",
       "      <td>3.000000</td>\n",
       "      <td>3.000000</td>\n",
       "      <td>2.000000</td>\n",
       "    </tr>\n",
       "  </tbody>\n",
       "</table>\n",
       "</div>"
      ],
      "text/plain": [
       "               Age       Height       Weight         FCVC          NCP  \\\n",
       "count  2111.000000  2111.000000  2111.000000  2111.000000  2111.000000   \n",
       "mean     24.312600     1.701677    86.586058     2.419043     2.685628   \n",
       "std       6.345968     0.093305    26.191172     0.533927     0.778039   \n",
       "min      14.000000     1.450000    39.000000     1.000000     1.000000   \n",
       "25%      19.947192     1.630000    65.473343     2.000000     2.658738   \n",
       "50%      22.777890     1.700499    83.000000     2.385502     3.000000   \n",
       "75%      26.000000     1.768464   107.430682     3.000000     3.000000   \n",
       "max      61.000000     1.980000   173.000000     3.000000     4.000000   \n",
       "\n",
       "              CH2O          FAF          TUE  \n",
       "count  2111.000000  2111.000000  2111.000000  \n",
       "mean      2.008011     1.010298     0.657866  \n",
       "std       0.612953     0.850592     0.608927  \n",
       "min       1.000000     0.000000     0.000000  \n",
       "25%       1.584812     0.124505     0.000000  \n",
       "50%       2.000000     1.000000     0.625350  \n",
       "75%       2.477420     1.666678     1.000000  \n",
       "max       3.000000     3.000000     2.000000  "
      ]
     },
     "execution_count": 6,
     "metadata": {},
     "output_type": "execute_result"
    }
   ],
   "source": [
    "# Obtain summary of the descriptive statistics for the numerical columns \n",
    "df.describe()"
   ]
  },
  {
   "cell_type": "markdown",
   "metadata": {},
   "source": [
    "The DataFrame contains 17 rows and 2111 columns. \n",
    "\n",
    "The columns are `Gender`, `Age`, `Height`, `Weight`, `family_history_with_overweight`, `FAVC`, `FCVC`, `NCP`, `CAEC`, `SMOKE`, `CH2O`, `SCC`, `FAF`, `TUE`, `CALC`, `MTRANS`, `NObeyesdad`. The description of the column names can be found in the file `Data description.txt`.\n",
    "\n",
    "We have float and object data types.\n",
    "\n",
    "There are no columns containing missing data."
   ]
  },
  {
   "cell_type": "markdown",
   "metadata": {},
   "source": [
    "# Data Preparation"
   ]
  },
  {
   "cell_type": "markdown",
   "metadata": {},
   "source": [
    "## Data Cleaning\n",
    "In order to prepare our data for modeling, we:\n",
    "- Identify outliers and either drop or keep them.\n",
    "- Check for missing values and handle them."
   ]
  },
  {
   "cell_type": "code",
   "execution_count": 7,
   "metadata": {},
   "outputs": [
    {
     "data": {
      "text/plain": [
       "Gender                            0\n",
       "Age                               0\n",
       "Height                            0\n",
       "Weight                            0\n",
       "family_history_with_overweight    0\n",
       "FAVC                              0\n",
       "FCVC                              0\n",
       "NCP                               0\n",
       "CAEC                              0\n",
       "SMOKE                             0\n",
       "CH2O                              0\n",
       "SCC                               0\n",
       "FAF                               0\n",
       "TUE                               0\n",
       "CALC                              0\n",
       "MTRANS                            0\n",
       "NObeyesdad                        0\n",
       "dtype: int64"
      ]
     },
     "execution_count": 7,
     "metadata": {},
     "output_type": "execute_result"
    }
   ],
   "source": [
    "# Check for missing values\n",
    "df.isna().sum()"
   ]
  },
  {
   "cell_type": "markdown",
   "metadata": {},
   "source": [
    "There are no missing values in our dataset."
   ]
  },
  {
   "cell_type": "code",
   "execution_count": 8,
   "metadata": {},
   "outputs": [
    {
     "name": "stdout",
     "output_type": "stream",
     "text": [
      "Age\n",
      "Number of outliers: 168\n",
      "\n",
      "Height\n",
      "Number of outliers: 1\n",
      "\n",
      "Weight\n",
      "Number of outliers: 1\n",
      "\n",
      "FCVC\n",
      "Number of outliers: 0\n",
      "\n",
      "NCP\n",
      "Number of outliers: 579\n",
      "\n",
      "CH2O\n",
      "Number of outliers: 0\n",
      "\n",
      "FAF\n",
      "Number of outliers: 0\n",
      "\n",
      "TUE\n",
      "Number of outliers: 0\n",
      "\n"
     ]
    }
   ],
   "source": [
    "# Check for outliers in the data\n",
    "def check_outliers(data, columns):\n",
    "    for column in columns:\n",
    "        # Calculate IQR (Interquartile Range)\n",
    "        iqr = data[column].quantile(0.75) - data[column].quantile(0.25)\n",
    "    \n",
    "        # Define lower and upper thresholds\n",
    "        lower_threshold = data[column].quantile(0.25) - 1.5 * iqr\n",
    "        upper_threshold = data[column].quantile(0.75) + 1.5 * iqr\n",
    "    \n",
    "        # Find outliers\n",
    "        outliers = data[(data[column] < lower_threshold) | (data[column] > upper_threshold)]\n",
    "    \n",
    "        # Print the count of outliers\n",
    "        print(f\"{column}\\nNumber of outliers: {len(outliers)}\\n\")\n",
    "\n",
    "columns_to_check = df.select_dtypes(include = [\"number\"])\n",
    "check_outliers(df, columns_to_check)"
   ]
  },
  {
   "cell_type": "code",
   "execution_count": 9,
   "metadata": {},
   "outputs": [
    {
     "data": {
      "text/plain": [
       "18.000000    128\n",
       "26.000000    101\n",
       "21.000000     96\n",
       "23.000000     89\n",
       "19.000000     59\n",
       "            ... \n",
       "19.314964      1\n",
       "21.900120      1\n",
       "23.421726      1\n",
       "18.312665      1\n",
       "61.000000      1\n",
       "Name: Age, Length: 1402, dtype: int64"
      ]
     },
     "execution_count": 9,
     "metadata": {},
     "output_type": "execute_result"
    }
   ],
   "source": [
    "# Check value counts for Age column\n",
    "df[\"Age\"].value_counts()"
   ]
  },
  {
   "cell_type": "markdown",
   "metadata": {},
   "source": [
    "From the distribution of the age, we can see that the values lie within the range of 18-61 which is within the age range from which the dataset was collected. Therefore, we do not drop the outliers."
   ]
  },
  {
   "cell_type": "code",
   "execution_count": 10,
   "metadata": {},
   "outputs": [
    {
     "data": {
      "image/png": "[encoded data removed]",
      "text/plain": [
       "<Figure size 720x432 with 1 Axes>"
      ]
     },
     "metadata": {
      "needs_background": "light"
     },
     "output_type": "display_data"
    },
    {
     "data": {
      "text/plain": [
       "<Figure size 432x288 with 0 Axes>"
      ]
     },
     "metadata": {},
     "output_type": "display_data"
    }
   ],
   "source": [
    "# check the distribution of the \"Number of main meals\" (NCP) column\n",
    "plt.figure(figsize=(10, 6))\n",
    "sns.histplot(df[\"NCP\"], bins=10, kde=True, color=\"blue\")\n",
    "plt.title(\"Distribution of Number of Main Meals\")\n",
    "plt.xlabel(\"Number of Main Meals\")\n",
    "plt.ylabel(\"Frequency\")\n",
    "plt.show()\n",
    "\n",
    "# Save the figure\n",
    "plt.savefig(\"images/Distribution of Number of Main Meals.png\")"
   ]
  },
  {
   "cell_type": "markdown",
   "metadata": {},
   "source": [
    "From the plot of NCP column we can see that more that 1200 values lie around the value of 3, which explains our mean(2.7) and median(3.0) values for this column. The limited spread of the data points and the fact that most values cluster around one number suggests that the observed outliers are genuine variations within the dataset. Therefore, we keep them."
   ]
  },
  {
   "cell_type": "code",
   "execution_count": 11,
   "metadata": {},
   "outputs": [
    {
     "data": {
      "text/html": [
       "<div>\n",
       "<style scoped>\n",
       "    .dataframe tbody tr th:only-of-type {\n",
       "        vertical-align: middle;\n",
       "    }\n",
       "\n",
       "    .dataframe tbody tr th {\n",
       "        vertical-align: top;\n",
       "    }\n",
       "\n",
       "    .dataframe thead th {\n",
       "        text-align: right;\n",
       "    }\n",
       "</style>\n",
       "<table border=\"1\" class=\"dataframe\">\n",
       "  <thead>\n",
       "    <tr style=\"text-align: right;\">\n",
       "      <th></th>\n",
       "      <th>Gender</th>\n",
       "      <th>Age</th>\n",
       "      <th>Height</th>\n",
       "      <th>Weight</th>\n",
       "      <th>family_history_with_overweight</th>\n",
       "      <th>FAVC</th>\n",
       "      <th>FCVC</th>\n",
       "      <th>NCP</th>\n",
       "      <th>CAEC</th>\n",
       "      <th>SMOKE</th>\n",
       "      <th>CH2O</th>\n",
       "      <th>SCC</th>\n",
       "      <th>FAF</th>\n",
       "      <th>TUE</th>\n",
       "      <th>CALC</th>\n",
       "      <th>MTRANS</th>\n",
       "      <th>NObeyesdad</th>\n",
       "    </tr>\n",
       "  </thead>\n",
       "  <tbody>\n",
       "    <tr>\n",
       "      <th>349</th>\n",
       "      <td>Male</td>\n",
       "      <td>20.0</td>\n",
       "      <td>1.98</td>\n",
       "      <td>125.0</td>\n",
       "      <td>yes</td>\n",
       "      <td>yes</td>\n",
       "      <td>2.0</td>\n",
       "      <td>3.0</td>\n",
       "      <td>Always</td>\n",
       "      <td>no</td>\n",
       "      <td>3.0</td>\n",
       "      <td>no</td>\n",
       "      <td>1.0</td>\n",
       "      <td>1.0</td>\n",
       "      <td>Sometimes</td>\n",
       "      <td>Public_Transportation</td>\n",
       "      <td>Obesity_Type_I</td>\n",
       "    </tr>\n",
       "  </tbody>\n",
       "</table>\n",
       "</div>"
      ],
      "text/plain": [
       "    Gender   Age  Height  Weight family_history_with_overweight FAVC  FCVC  \\\n",
       "349   Male  20.0    1.98   125.0                            yes  yes   2.0   \n",
       "\n",
       "     NCP    CAEC SMOKE  CH2O SCC  FAF  TUE       CALC                 MTRANS  \\\n",
       "349  3.0  Always    no   3.0  no  1.0  1.0  Sometimes  Public_Transportation   \n",
       "\n",
       "         NObeyesdad  \n",
       "349  Obesity_Type_I  "
      ]
     },
     "execution_count": 11,
     "metadata": {},
     "output_type": "execute_result"
    }
   ],
   "source": [
    "#Check the outlier in the Height column\n",
    "df[df[\"Height\"]==1.98]"
   ]
  },
  {
   "cell_type": "markdown",
   "metadata": {},
   "source": [
    "Looking at the height outlier, we can see that the individual has a weight of 125m which seems like a valid data point. Taller individuals might have different body compositions, weight distributions, and potential health risks compared to shorter individuals. Therefore, including this height as a feature in our analysis can contribute to a more comprehensive understanding of factors influencing obesity risk."
   ]
  },
  {
   "cell_type": "code",
   "execution_count": 12,
   "metadata": {},
   "outputs": [
    {
     "data": {
      "text/html": [
       "<div>\n",
       "<style scoped>\n",
       "    .dataframe tbody tr th:only-of-type {\n",
       "        vertical-align: middle;\n",
       "    }\n",
       "\n",
       "    .dataframe tbody tr th {\n",
       "        vertical-align: top;\n",
       "    }\n",
       "\n",
       "    .dataframe thead th {\n",
       "        text-align: right;\n",
       "    }\n",
       "</style>\n",
       "<table border=\"1\" class=\"dataframe\">\n",
       "  <thead>\n",
       "    <tr style=\"text-align: right;\">\n",
       "      <th></th>\n",
       "      <th>Gender</th>\n",
       "      <th>Age</th>\n",
       "      <th>Height</th>\n",
       "      <th>Weight</th>\n",
       "      <th>family_history_with_overweight</th>\n",
       "      <th>FAVC</th>\n",
       "      <th>FCVC</th>\n",
       "      <th>NCP</th>\n",
       "      <th>CAEC</th>\n",
       "      <th>SMOKE</th>\n",
       "      <th>CH2O</th>\n",
       "      <th>SCC</th>\n",
       "      <th>FAF</th>\n",
       "      <th>TUE</th>\n",
       "      <th>CALC</th>\n",
       "      <th>MTRANS</th>\n",
       "      <th>NObeyesdad</th>\n",
       "    </tr>\n",
       "  </thead>\n",
       "  <tbody>\n",
       "    <tr>\n",
       "      <th>344</th>\n",
       "      <td>Male</td>\n",
       "      <td>18.0</td>\n",
       "      <td>1.87</td>\n",
       "      <td>173.0</td>\n",
       "      <td>yes</td>\n",
       "      <td>yes</td>\n",
       "      <td>3.0</td>\n",
       "      <td>3.0</td>\n",
       "      <td>Frequently</td>\n",
       "      <td>no</td>\n",
       "      <td>2.0</td>\n",
       "      <td>no</td>\n",
       "      <td>2.0</td>\n",
       "      <td>1.0</td>\n",
       "      <td>Sometimes</td>\n",
       "      <td>Public_Transportation</td>\n",
       "      <td>Obesity_Type_III</td>\n",
       "    </tr>\n",
       "  </tbody>\n",
       "</table>\n",
       "</div>"
      ],
      "text/plain": [
       "    Gender   Age  Height  Weight family_history_with_overweight FAVC  FCVC  \\\n",
       "344   Male  18.0    1.87   173.0                            yes  yes   3.0   \n",
       "\n",
       "     NCP        CAEC SMOKE  CH2O SCC  FAF  TUE       CALC  \\\n",
       "344  3.0  Frequently    no   2.0  no  2.0  1.0  Sometimes   \n",
       "\n",
       "                    MTRANS        NObeyesdad  \n",
       "344  Public_Transportation  Obesity_Type_III  "
      ]
     },
     "execution_count": 12,
     "metadata": {},
     "output_type": "execute_result"
    }
   ],
   "source": [
    "#Check the outlier in the Weight column\n",
    "df[df[\"Weight\"]==173]"
   ]
  },
  {
   "cell_type": "markdown",
   "metadata": {},
   "source": [
    "The weight of 173 kg combined with a height of 1.87 meters looks like an extreme value, and such values can significantly impact our analysis of obesity. We therefore drop it."
   ]
  },
  {
   "cell_type": "code",
   "execution_count": 13,
   "metadata": {},
   "outputs": [],
   "source": [
    "# Drop the Weight outlier\n",
    "df = df[df[\"Weight\"] != 173]"
   ]
  },
  {
   "cell_type": "code",
   "execution_count": 14,
   "metadata": {},
   "outputs": [],
   "source": [
    "# Rename the NObeyesdad column for readability\n",
    "df.rename(columns={\"NObeyesdad\": \"NObesity\"}, inplace=True)"
   ]
  },
  {
   "cell_type": "markdown",
   "metadata": {},
   "source": [
    "###  Exploratory Data Analysis\n",
    "We perform analysis to extract insights, identify patterns and draw conclusions from the data."
   ]
  },
  {
   "cell_type": "markdown",
   "metadata": {},
   "source": [
    "We compare the relationship between the numeric variables using a correlation matrix. A positive correlation indicates that as one variable increases, the other tends to increase, while a negative correlation indicates that as one variable increases, the other tends to decrease."
   ]
  },
  {
   "cell_type": "code",
   "execution_count": 15,
   "metadata": {},
   "outputs": [
    {
     "data": {
      "image/png": "[encoded data removed]",
      "text/plain": [
       "<Figure size 1152x576 with 2 Axes>"
      ]
     },
     "metadata": {
      "needs_background": "light"
     },
     "output_type": "display_data"
    },
    {
     "data": {
      "text/plain": [
       "<Figure size 432x288 with 0 Axes>"
      ]
     },
     "metadata": {},
     "output_type": "display_data"
    }
   ],
   "source": [
    "# Visualize the correlation matrix\n",
    "correlation_matrix = df.corr()\n",
    "plt.figure(figsize=(16, 8))\n",
    "sns.heatmap(correlation_matrix, annot=True, cmap=\"coolwarm\")\n",
    "plt.title(\"Correlation Matrix\")\n",
    "plt.show()\n",
    "\n",
    "# Save the figure\n",
    "plt.savefig(\"images/Correlation Matrix.png\")"
   ]
  },
  {
   "cell_type": "markdown",
   "metadata": {},
   "source": [
    "From the matrix, we can see that the features with the highest correlation are `Height` and `Weight`, with a correlation of 0.46.\n",
    "The features with the lowest correlation are `Age` and `Height` at -0.025."
   ]
  },
  {
   "cell_type": "code",
   "execution_count": 16,
   "metadata": {},
   "outputs": [
    {
     "data": {
      "image/png": "[encoded data removed]",
      "text/plain": [
       "<Figure size 1080x2880 with 16 Axes>"
      ]
     },
     "metadata": {
      "needs_background": "light"
     },
     "output_type": "display_data"
    },
    {
     "data": {
      "text/plain": [
       "<Figure size 432x288 with 0 Axes>"
      ]
     },
     "metadata": {},
     "output_type": "display_data"
    }
   ],
   "source": [
    "# Create a function to visualize our numerical columns\n",
    "def visualize_numerical_columns(data, columns):\n",
    "    num_columns = len(columns)\n",
    "    \n",
    "    # Create subplots\n",
    "    fig, axes = plt.subplots(num_columns, 2, figsize=(15, 5 * num_columns))\n",
    "\n",
    "    # Ensure columns is a list, even if a single column is provided\n",
    "    if not isinstance(columns, list):\n",
    "        columns = [columns]\n",
    "\n",
    "    for i, column in enumerate(columns):\n",
    "        # Plot histogram\n",
    "        sns.histplot(data=data, x=column, ax=axes[i, 0])\n",
    "        axes[i, 0].set_title(f\"Histogram: Distribution of {column}\")\n",
    "\n",
    "        # Plot boxplot\n",
    "        sns.boxplot(data=data, y=column, ax=axes[i, 1])\n",
    "        axes[i, 1].set_title(f\"Boxplot: Central Tendency of {column}\")\n",
    "\n",
    "    # Adjust layout\n",
    "    plt.tight_layout()\n",
    "\n",
    "    # Show the plots\n",
    "    plt.show()\n",
    "\n",
    "# Visualize the numerical columns\n",
    "columns_to_visualize = [\"Age\", \"Height\", \"Weight\", \"FCVC\", \"NCP\", \"CH2O\", \"FAF\", \"TUE\"]\n",
    "visualize_numerical_columns(df, columns_to_visualize)\n",
    "\n",
    "# Save the figure\n",
    "plt.savefig(\"images/Numerical Columns Visualization.png\")"
   ]
  },
  {
   "cell_type": "markdown",
   "metadata": {},
   "source": [
    "We can see that age is positively skewed.\n",
    "\n",
    "The height appears to be normally distributed."
   ]
  },
  {
   "cell_type": "markdown",
   "metadata": {},
   "source": [
    "We visualize the distribution of our categorical columns."
   ]
  },
  {
   "cell_type": "code",
   "execution_count": 17,
   "metadata": {},
   "outputs": [
    {
     "data": {
      "image/png": "[encoded data removed]",
      "text/plain": [
       "<Figure size 576x432 with 1 Axes>"
      ]
     },
     "metadata": {
      "needs_background": "light"
     },
     "output_type": "display_data"
    },
    {
     "data": {
      "image/png": "[encoded data removed]",
      "text/plain": [
       "<Figure size 576x432 with 1 Axes>"
      ]
     },
     "metadata": {
      "needs_background": "light"
     },
     "output_type": "display_data"
    },
    {
     "data": {
      "image/png": "[encoded data removed]",
      "text/plain": [
       "<Figure size 576x432 with 1 Axes>"
      ]
     },
     "metadata": {
      "needs_background": "light"
     },
     "output_type": "display_data"
    },
    {
     "data": {
      "image/png": "[encoded data removed]",
      "text/plain": [
       "<Figure size 576x432 with 1 Axes>"
      ]
     },
     "metadata": {
      "needs_background": "light"
     },
     "output_type": "display_data"
    },
    {
     "data": {
      "image/png": "[encoded data removed]",
      "text/plain": [
       "<Figure size 576x432 with 1 Axes>"
      ]
     },
     "metadata": {
      "needs_background": "light"
     },
     "output_type": "display_data"
    },
    {
     "data": {
      "image/png": "[encoded data removed]",
      "text/plain": [
       "<Figure size 576x432 with 1 Axes>"
      ]
     },
     "metadata": {
      "needs_background": "light"
     },
     "output_type": "display_data"
    },
    {
     "data": {
      "image/png": "[encoded data removed]",
      "text/plain": [
       "<Figure size 576x432 with 1 Axes>"
      ]
     },
     "metadata": {
      "needs_background": "light"
     },
     "output_type": "display_data"
    },
    {
     "data": {
      "image/png": "[encoded data removed]",
      "text/plain": [
       "<Figure size 576x432 with 1 Axes>"
      ]
     },
     "metadata": {
      "needs_background": "light"
     },
     "output_type": "display_data"
    },
    {
     "data": {
      "image/png": "[encoded data removed]",
      "text/plain": [
       "<Figure size 576x432 with 1 Axes>"
      ]
     },
     "metadata": {
      "needs_background": "light"
     },
     "output_type": "display_data"
    },
    {
     "data": {
      "text/plain": [
       "<Figure size 432x288 with 0 Axes>"
      ]
     },
     "metadata": {},
     "output_type": "display_data"
    }
   ],
   "source": [
    "def visualize_categorical_column(data, x, xlabel=\"\", ylabel=\"Frequency\", title=\"\", rotation=None, grid=False):\n",
    "    plt.figure(figsize=(8, 6))\n",
    "    sns.countplot(x=x, data=data)\n",
    "    plt.xlabel(xlabel)\n",
    "    plt.ylabel(ylabel)\n",
    "    plt.title(title)\n",
    "    if rotation is not None:\n",
    "        plt.xticks(rotation=rotation)\n",
    "    plt.show()\n",
    "\n",
    "# Visualize the categorical columns\n",
    "visualize_categorical_column(df, x=\"NObesity\", xlabel=\"Obesity Types\", rotation=\"vertical\")\n",
    "visualize_categorical_column(df, x=\"Gender\", xlabel=\"Gender\", title=\"Distribution of Gender\")\n",
    "visualize_categorical_column(df, x=\"family_history_with_overweight\", title=\"Distribution of Family History with Overweight\")\n",
    "visualize_categorical_column(df, x=\"FAVC\", title=\"Distribution of Frequent consumption of High Caloric Food\")\n",
    "visualize_categorical_column(df, x=\"CAEC\", title=\"Distribution of Food Consumption between Meals\")\n",
    "visualize_categorical_column(df, x=\"SMOKE\", title=\"Distribution of Smokers\")\n",
    "visualize_categorical_column(df, x=\"SCC\", title=\"Distribution of Calories Consumption Monitoring\")\n",
    "visualize_categorical_column(df, x=\"CALC\", title=\"Distribution of Alcohol Consumption\")\n",
    "visualize_categorical_column(df, x=\"MTRANS\", xlabel=\"Transportation\", title=\"Distribution of Means of Transportation Used\")\n",
    "\n",
    "# Save the figure\n",
    "plt.savefig(\"images/Visualization of categorical columns.png\")"
   ]
  },
  {
   "cell_type": "markdown",
   "metadata": {},
   "source": [
    "We can see that Obesity_Type_I has the highest number at 351 while Insufficient_Weight has the least at 272."
   ]
  },
  {
   "cell_type": "markdown",
   "metadata": {},
   "source": [
    "# Modeling\n",
    "## Requirements\n",
    "**1. Data Preprocessing** \n",
    "Prepare the data for modeling by addressing the data types for the categorical columns.\n",
    "\n",
    "**2. Perform a Train-Test Split.**\n",
    "For a complete end-to-end ML process, we need to create a holdout set that we will use at the very end to evaluate our final model's performance.\n",
    "\n",
    "**3. Build and Evaluate a Simple Baseline Model.**\n",
    "Without performing any preprocessing or hyperparameter tuning, build and evaluate a vanilla logistic regression model.\n",
    "\n",
    "**4. Build and Evaluate Additional Models.**\n",
    "Create versions of the simple model with tuned hyperparameters. Build a more complex model, Random Forest and compare the selected metric with that of the simple models.\n",
    "\n",
    "**5. Choose and Evaluate a Final Model.**\n",
    "Preprocess the full training set and test set appropriately, then evaluate the final model with various classification metrics."
   ]
  },
  {
   "cell_type": "markdown",
   "metadata": {},
   "source": [
    "### 1. Data Preprocessing\n",
    "- Convert the categorical columns to the correct data types."
   ]
  },
  {
   "cell_type": "code",
   "execution_count": 18,
   "metadata": {},
   "outputs": [
    {
     "data": {
      "text/plain": [
       "['Gender',\n",
       " 'family_history_with_overweight',\n",
       " 'FAVC',\n",
       " 'CAEC',\n",
       " 'SMOKE',\n",
       " 'SCC',\n",
       " 'CALC',\n",
       " 'MTRANS',\n",
       " 'NObesity']"
      ]
     },
     "execution_count": 18,
     "metadata": {},
     "output_type": "execute_result"
    }
   ],
   "source": [
    "# Let's see all categorical columns in our data\n",
    "categoricals=[]\n",
    "for col in df.columns:\n",
    "    if df[col].dtype == object:\n",
    "        categoricals.append(col)\n",
    "\n",
    "categoricals"
   ]
  },
  {
   "cell_type": "markdown",
   "metadata": {},
   "source": [
    "We can see that the columns `Gender`, `family_history_with_overweight`, `FAVC`, `CAEC`, `SMOKE`, `SCC`, `CALC`, `MTRANS` and `NObeyesity` are categorical variables. We need to convert them to numerical values."
   ]
  },
  {
   "cell_type": "code",
   "execution_count": 19,
   "metadata": {},
   "outputs": [],
   "source": [
    "# Define a function for getting value counts for specified columns in the DataFrame\n",
    "def get_value_counts(dataframe, columns=None):\n",
    "    \"\"\"\n",
    "    Get value counts for specified columns in a DataFrame.\n",
    "    Parameters:\n",
    "    - dataframe: Input DataFrame.\n",
    "    - columns: List of column names to get value counts for. \n",
    "    Returns a dictionary containing value counts for specified columns.\n",
    "    \"\"\"\n",
    "    value_counts_dict = {}\n",
    "    \n",
    "    for col in columns:\n",
    "        if col in dataframe.columns:\n",
    "            value_counts_dict[col] = dataframe[col].value_counts()\n",
    "    return value_counts_dict"
   ]
  },
  {
   "cell_type": "code",
   "execution_count": 20,
   "metadata": {},
   "outputs": [
    {
     "name": "stdout",
     "output_type": "stream",
     "text": [
      "Value Counts for Gender:\n",
      "Male      1067\n",
      "Female    1043\n",
      "Name: Gender, dtype: int64\n",
      "\n",
      "Value Counts for family_history_with_overweight:\n",
      "yes    1725\n",
      "no      385\n",
      "Name: family_history_with_overweight, dtype: int64\n",
      "\n",
      "Value Counts for FAVC:\n",
      "yes    1865\n",
      "no      245\n",
      "Name: FAVC, dtype: int64\n",
      "\n",
      "Value Counts for CAEC:\n",
      "Sometimes     1765\n",
      "Frequently     241\n",
      "Always          53\n",
      "no              51\n",
      "Name: CAEC, dtype: int64\n",
      "\n",
      "Value Counts for SMOKE:\n",
      "no     2066\n",
      "yes      44\n",
      "Name: SMOKE, dtype: int64\n",
      "\n",
      "Value Counts for SCC:\n",
      "no     2014\n",
      "yes      96\n",
      "Name: SCC, dtype: int64\n",
      "\n",
      "Value Counts for CALC:\n",
      "Sometimes     1400\n",
      "no             639\n",
      "Frequently      70\n",
      "Always           1\n",
      "Name: CALC, dtype: int64\n",
      "\n",
      "Value Counts for MTRANS:\n",
      "Public_Transportation    1579\n",
      "Automobile                457\n",
      "Walking                    56\n",
      "Motorbike                  11\n",
      "Bike                        7\n",
      "Name: MTRANS, dtype: int64\n",
      "\n",
      "Value Counts for NObesity:\n",
      "Obesity_Type_I         351\n",
      "Obesity_Type_III       323\n",
      "Obesity_Type_II        297\n",
      "Overweight_Level_II    290\n",
      "Overweight_Level_I     290\n",
      "Normal_Weight          287\n",
      "Insufficient_Weight    272\n",
      "Name: NObesity, dtype: int64\n",
      "\n"
     ]
    }
   ],
   "source": [
    "# Get the value counts for the categorical coumns\n",
    "results = get_value_counts(df, categoricals)\n",
    "\n",
    "for col, value_counts in results.items():\n",
    "    print(f\"Value Counts for {col}:\")\n",
    "    print(value_counts)\n",
    "    print()"
   ]
  },
  {
   "cell_type": "markdown",
   "metadata": {},
   "source": [
    "Since `Gender`, `family_history_with_overweight`, `FAVC`, `SMOKE` and `SCC` only have two categories, we can transform them using label encoding."
   ]
  },
  {
   "cell_type": "code",
   "execution_count": 21,
   "metadata": {},
   "outputs": [
    {
     "data": {
      "text/html": [
       "<div>\n",
       "<style scoped>\n",
       "    .dataframe tbody tr th:only-of-type {\n",
       "        vertical-align: middle;\n",
       "    }\n",
       "\n",
       "    .dataframe tbody tr th {\n",
       "        vertical-align: top;\n",
       "    }\n",
       "\n",
       "    .dataframe thead th {\n",
       "        text-align: right;\n",
       "    }\n",
       "</style>\n",
       "<table border=\"1\" class=\"dataframe\">\n",
       "  <thead>\n",
       "    <tr style=\"text-align: right;\">\n",
       "      <th></th>\n",
       "      <th>Gender</th>\n",
       "      <th>Age</th>\n",
       "      <th>Height</th>\n",
       "      <th>Weight</th>\n",
       "      <th>family_history_with_overweight</th>\n",
       "      <th>FAVC</th>\n",
       "      <th>FCVC</th>\n",
       "      <th>NCP</th>\n",
       "      <th>CAEC</th>\n",
       "      <th>SMOKE</th>\n",
       "      <th>CH2O</th>\n",
       "      <th>SCC</th>\n",
       "      <th>FAF</th>\n",
       "      <th>TUE</th>\n",
       "      <th>CALC</th>\n",
       "      <th>MTRANS</th>\n",
       "      <th>NObesity</th>\n",
       "    </tr>\n",
       "  </thead>\n",
       "  <tbody>\n",
       "    <tr>\n",
       "      <th>0</th>\n",
       "      <td>0</td>\n",
       "      <td>21.0</td>\n",
       "      <td>1.62</td>\n",
       "      <td>64.0</td>\n",
       "      <td>1</td>\n",
       "      <td>0</td>\n",
       "      <td>2.0</td>\n",
       "      <td>3.0</td>\n",
       "      <td>Sometimes</td>\n",
       "      <td>0</td>\n",
       "      <td>2.0</td>\n",
       "      <td>0</td>\n",
       "      <td>0.0</td>\n",
       "      <td>1.0</td>\n",
       "      <td>no</td>\n",
       "      <td>Public_Transportation</td>\n",
       "      <td>Normal_Weight</td>\n",
       "    </tr>\n",
       "    <tr>\n",
       "      <th>1</th>\n",
       "      <td>0</td>\n",
       "      <td>21.0</td>\n",
       "      <td>1.52</td>\n",
       "      <td>56.0</td>\n",
       "      <td>1</td>\n",
       "      <td>0</td>\n",
       "      <td>3.0</td>\n",
       "      <td>3.0</td>\n",
       "      <td>Sometimes</td>\n",
       "      <td>1</td>\n",
       "      <td>3.0</td>\n",
       "      <td>1</td>\n",
       "      <td>3.0</td>\n",
       "      <td>0.0</td>\n",
       "      <td>Sometimes</td>\n",
       "      <td>Public_Transportation</td>\n",
       "      <td>Normal_Weight</td>\n",
       "    </tr>\n",
       "    <tr>\n",
       "      <th>2</th>\n",
       "      <td>1</td>\n",
       "      <td>23.0</td>\n",
       "      <td>1.80</td>\n",
       "      <td>77.0</td>\n",
       "      <td>1</td>\n",
       "      <td>0</td>\n",
       "      <td>2.0</td>\n",
       "      <td>3.0</td>\n",
       "      <td>Sometimes</td>\n",
       "      <td>0</td>\n",
       "      <td>2.0</td>\n",
       "      <td>0</td>\n",
       "      <td>2.0</td>\n",
       "      <td>1.0</td>\n",
       "      <td>Frequently</td>\n",
       "      <td>Public_Transportation</td>\n",
       "      <td>Normal_Weight</td>\n",
       "    </tr>\n",
       "    <tr>\n",
       "      <th>3</th>\n",
       "      <td>1</td>\n",
       "      <td>27.0</td>\n",
       "      <td>1.80</td>\n",
       "      <td>87.0</td>\n",
       "      <td>0</td>\n",
       "      <td>0</td>\n",
       "      <td>3.0</td>\n",
       "      <td>3.0</td>\n",
       "      <td>Sometimes</td>\n",
       "      <td>0</td>\n",
       "      <td>2.0</td>\n",
       "      <td>0</td>\n",
       "      <td>2.0</td>\n",
       "      <td>0.0</td>\n",
       "      <td>Frequently</td>\n",
       "      <td>Walking</td>\n",
       "      <td>Overweight_Level_I</td>\n",
       "    </tr>\n",
       "    <tr>\n",
       "      <th>4</th>\n",
       "      <td>1</td>\n",
       "      <td>22.0</td>\n",
       "      <td>1.78</td>\n",
       "      <td>89.8</td>\n",
       "      <td>0</td>\n",
       "      <td>0</td>\n",
       "      <td>2.0</td>\n",
       "      <td>1.0</td>\n",
       "      <td>Sometimes</td>\n",
       "      <td>0</td>\n",
       "      <td>2.0</td>\n",
       "      <td>0</td>\n",
       "      <td>0.0</td>\n",
       "      <td>0.0</td>\n",
       "      <td>Sometimes</td>\n",
       "      <td>Public_Transportation</td>\n",
       "      <td>Overweight_Level_II</td>\n",
       "    </tr>\n",
       "  </tbody>\n",
       "</table>\n",
       "</div>"
      ],
      "text/plain": [
       "   Gender   Age  Height  Weight  family_history_with_overweight  FAVC  FCVC  \\\n",
       "0       0  21.0    1.62    64.0                               1     0   2.0   \n",
       "1       0  21.0    1.52    56.0                               1     0   3.0   \n",
       "2       1  23.0    1.80    77.0                               1     0   2.0   \n",
       "3       1  27.0    1.80    87.0                               0     0   3.0   \n",
       "4       1  22.0    1.78    89.8                               0     0   2.0   \n",
       "\n",
       "   NCP       CAEC  SMOKE  CH2O  SCC  FAF  TUE        CALC  \\\n",
       "0  3.0  Sometimes      0   2.0    0  0.0  1.0          no   \n",
       "1  3.0  Sometimes      1   3.0    1  3.0  0.0   Sometimes   \n",
       "2  3.0  Sometimes      0   2.0    0  2.0  1.0  Frequently   \n",
       "3  3.0  Sometimes      0   2.0    0  2.0  0.0  Frequently   \n",
       "4  1.0  Sometimes      0   2.0    0  0.0  0.0   Sometimes   \n",
       "\n",
       "                  MTRANS             NObesity  \n",
       "0  Public_Transportation        Normal_Weight  \n",
       "1  Public_Transportation        Normal_Weight  \n",
       "2  Public_Transportation        Normal_Weight  \n",
       "3                Walking   Overweight_Level_I  \n",
       "4  Public_Transportation  Overweight_Level_II  "
      ]
     },
     "execution_count": 21,
     "metadata": {},
     "output_type": "execute_result"
    }
   ],
   "source": [
    "# Convert columns to the correct data types\n",
    "encoder = LabelEncoder()\n",
    "\n",
    "columns_to_encode = [\"Gender\", \"family_history_with_overweight\", \"FAVC\", \"SMOKE\", \"SCC\"]\n",
    "\n",
    "for column in columns_to_encode:\n",
    "    df[column] = encoder.fit_transform(df[column])\n",
    "\n",
    "# Check that the change has been made    \n",
    "df.head()"
   ]
  },
  {
   "cell_type": "markdown",
   "metadata": {},
   "source": [
    "Since `CAEC`, `CALC`, `MTRANS` and `NObesity` have more than two categories, we can use ordinal encoding to transform them. Ordinal encoding preserves the order of the categories while recognizing that the numerical differences between them may not accurately reflect the underlying relationships."
   ]
  },
  {
   "cell_type": "code",
   "execution_count": 22,
   "metadata": {},
   "outputs": [
    {
     "data": {
      "text/html": [
       "<div>\n",
       "<style scoped>\n",
       "    .dataframe tbody tr th:only-of-type {\n",
       "        vertical-align: middle;\n",
       "    }\n",
       "\n",
       "    .dataframe tbody tr th {\n",
       "        vertical-align: top;\n",
       "    }\n",
       "\n",
       "    .dataframe thead th {\n",
       "        text-align: right;\n",
       "    }\n",
       "</style>\n",
       "<table border=\"1\" class=\"dataframe\">\n",
       "  <thead>\n",
       "    <tr style=\"text-align: right;\">\n",
       "      <th></th>\n",
       "      <th>Gender</th>\n",
       "      <th>Age</th>\n",
       "      <th>Height</th>\n",
       "      <th>Weight</th>\n",
       "      <th>family_history_with_overweight</th>\n",
       "      <th>FAVC</th>\n",
       "      <th>FCVC</th>\n",
       "      <th>NCP</th>\n",
       "      <th>CAEC</th>\n",
       "      <th>SMOKE</th>\n",
       "      <th>CH2O</th>\n",
       "      <th>SCC</th>\n",
       "      <th>FAF</th>\n",
       "      <th>TUE</th>\n",
       "      <th>CALC</th>\n",
       "      <th>MTRANS</th>\n",
       "      <th>NObesity</th>\n",
       "    </tr>\n",
       "  </thead>\n",
       "  <tbody>\n",
       "    <tr>\n",
       "      <th>0</th>\n",
       "      <td>0</td>\n",
       "      <td>21.0</td>\n",
       "      <td>1.62</td>\n",
       "      <td>64.0</td>\n",
       "      <td>1</td>\n",
       "      <td>0</td>\n",
       "      <td>2.0</td>\n",
       "      <td>3.0</td>\n",
       "      <td>2.0</td>\n",
       "      <td>0</td>\n",
       "      <td>2.0</td>\n",
       "      <td>0</td>\n",
       "      <td>0.0</td>\n",
       "      <td>1.0</td>\n",
       "      <td>3.0</td>\n",
       "      <td>3.0</td>\n",
       "      <td>1.0</td>\n",
       "    </tr>\n",
       "    <tr>\n",
       "      <th>1</th>\n",
       "      <td>0</td>\n",
       "      <td>21.0</td>\n",
       "      <td>1.52</td>\n",
       "      <td>56.0</td>\n",
       "      <td>1</td>\n",
       "      <td>0</td>\n",
       "      <td>3.0</td>\n",
       "      <td>3.0</td>\n",
       "      <td>2.0</td>\n",
       "      <td>1</td>\n",
       "      <td>3.0</td>\n",
       "      <td>1</td>\n",
       "      <td>3.0</td>\n",
       "      <td>0.0</td>\n",
       "      <td>2.0</td>\n",
       "      <td>3.0</td>\n",
       "      <td>1.0</td>\n",
       "    </tr>\n",
       "    <tr>\n",
       "      <th>2</th>\n",
       "      <td>1</td>\n",
       "      <td>23.0</td>\n",
       "      <td>1.80</td>\n",
       "      <td>77.0</td>\n",
       "      <td>1</td>\n",
       "      <td>0</td>\n",
       "      <td>2.0</td>\n",
       "      <td>3.0</td>\n",
       "      <td>2.0</td>\n",
       "      <td>0</td>\n",
       "      <td>2.0</td>\n",
       "      <td>0</td>\n",
       "      <td>2.0</td>\n",
       "      <td>1.0</td>\n",
       "      <td>1.0</td>\n",
       "      <td>3.0</td>\n",
       "      <td>1.0</td>\n",
       "    </tr>\n",
       "    <tr>\n",
       "      <th>3</th>\n",
       "      <td>1</td>\n",
       "      <td>27.0</td>\n",
       "      <td>1.80</td>\n",
       "      <td>87.0</td>\n",
       "      <td>0</td>\n",
       "      <td>0</td>\n",
       "      <td>3.0</td>\n",
       "      <td>3.0</td>\n",
       "      <td>2.0</td>\n",
       "      <td>0</td>\n",
       "      <td>2.0</td>\n",
       "      <td>0</td>\n",
       "      <td>2.0</td>\n",
       "      <td>0.0</td>\n",
       "      <td>1.0</td>\n",
       "      <td>4.0</td>\n",
       "      <td>5.0</td>\n",
       "    </tr>\n",
       "    <tr>\n",
       "      <th>4</th>\n",
       "      <td>1</td>\n",
       "      <td>22.0</td>\n",
       "      <td>1.78</td>\n",
       "      <td>89.8</td>\n",
       "      <td>0</td>\n",
       "      <td>0</td>\n",
       "      <td>2.0</td>\n",
       "      <td>1.0</td>\n",
       "      <td>2.0</td>\n",
       "      <td>0</td>\n",
       "      <td>2.0</td>\n",
       "      <td>0</td>\n",
       "      <td>0.0</td>\n",
       "      <td>0.0</td>\n",
       "      <td>2.0</td>\n",
       "      <td>3.0</td>\n",
       "      <td>6.0</td>\n",
       "    </tr>\n",
       "  </tbody>\n",
       "</table>\n",
       "</div>"
      ],
      "text/plain": [
       "   Gender   Age  Height  Weight  family_history_with_overweight  FAVC  FCVC  \\\n",
       "0       0  21.0    1.62    64.0                               1     0   2.0   \n",
       "1       0  21.0    1.52    56.0                               1     0   3.0   \n",
       "2       1  23.0    1.80    77.0                               1     0   2.0   \n",
       "3       1  27.0    1.80    87.0                               0     0   3.0   \n",
       "4       1  22.0    1.78    89.8                               0     0   2.0   \n",
       "\n",
       "   NCP  CAEC  SMOKE  CH2O  SCC  FAF  TUE  CALC  MTRANS  NObesity  \n",
       "0  3.0   2.0      0   2.0    0  0.0  1.0   3.0     3.0       1.0  \n",
       "1  3.0   2.0      1   3.0    1  3.0  0.0   2.0     3.0       1.0  \n",
       "2  3.0   2.0      0   2.0    0  2.0  1.0   1.0     3.0       1.0  \n",
       "3  3.0   2.0      0   2.0    0  2.0  0.0   1.0     4.0       5.0  \n",
       "4  1.0   2.0      0   2.0    0  0.0  0.0   2.0     3.0       6.0  "
      ]
     },
     "execution_count": 22,
     "metadata": {},
     "output_type": "execute_result"
    }
   ],
   "source": [
    "# Initialize OrdinalEncoder\n",
    "ordinal_encoder = OrdinalEncoder()\n",
    "\n",
    "columns_to_encode = [\"CAEC\", \"CALC\", \"MTRANS\", \"NObesity\"]\n",
    "\n",
    "for column in columns_to_encode:\n",
    "    df[column] = ordinal_encoder.fit_transform(df[[column]])\n",
    "    \n",
    "# Display the updated DataFrame\n",
    "df.head()"
   ]
  },
  {
   "cell_type": "code",
   "execution_count": 23,
   "metadata": {},
   "outputs": [
    {
     "name": "stdout",
     "output_type": "stream",
     "text": [
      "<class 'pandas.core.frame.DataFrame'>\n",
      "Int64Index: 2110 entries, 0 to 2110\n",
      "Data columns (total 17 columns):\n",
      " #   Column                          Non-Null Count  Dtype  \n",
      "---  ------                          --------------  -----  \n",
      " 0   Gender                          2110 non-null   int32  \n",
      " 1   Age                             2110 non-null   float64\n",
      " 2   Height                          2110 non-null   float64\n",
      " 3   Weight                          2110 non-null   float64\n",
      " 4   family_history_with_overweight  2110 non-null   int32  \n",
      " 5   FAVC                            2110 non-null   int32  \n",
      " 6   FCVC                            2110 non-null   float64\n",
      " 7   NCP                             2110 non-null   float64\n",
      " 8   CAEC                            2110 non-null   float64\n",
      " 9   SMOKE                           2110 non-null   int32  \n",
      " 10  CH2O                            2110 non-null   float64\n",
      " 11  SCC                             2110 non-null   int32  \n",
      " 12  FAF                             2110 non-null   float64\n",
      " 13  TUE                             2110 non-null   float64\n",
      " 14  CALC                            2110 non-null   float64\n",
      " 15  MTRANS                          2110 non-null   float64\n",
      " 16  NObesity                        2110 non-null   float64\n",
      "dtypes: float64(12), int32(5)\n",
      "memory usage: 335.5 KB\n"
     ]
    }
   ],
   "source": [
    "# Check that the columns now have numeric data types\n",
    "df.info()"
   ]
  },
  {
   "cell_type": "markdown",
   "metadata": {},
   "source": [
    "Now that we have correct data types for our columns, our data is ready for building our models."
   ]
  },
  {
   "cell_type": "markdown",
   "metadata": {},
   "source": [
    "### 2. Perform a Train Test Split\n",
    "In total, there are 16 predictors, and one outcome variable.The target is `NObesity`. We split `df` into `X` and `y`, then perform a train-test split  to determine how well our algorithm will generalize to new data. We set `test_size` to 0.25 and `random_state=42` for reproducibility."
   ]
  },
  {
   "cell_type": "code",
   "execution_count": 24,
   "metadata": {},
   "outputs": [],
   "source": [
    "# Split the data\n",
    "y = df[\"NObesity\"]\n",
    "X = df.drop([\"NObesity\"], axis=1)\n",
    "\n",
    "# Perform a train-test-split\n",
    "X_train, X_test, y_train, y_test = train_test_split(X, y, random_state=42)"
   ]
  },
  {
   "cell_type": "code",
   "execution_count": 25,
   "metadata": {},
   "outputs": [],
   "source": [
    "# Create and fit the scaler on the training data\n",
    "scaler = MinMaxScaler()\n",
    "X_train_scaled = scaler.fit_transform(X_train)\n",
    "\n",
    "# Transform both the training and testing data\n",
    "X_test_scaled = scaler.transform(X_test)"
   ]
  },
  {
   "cell_type": "markdown",
   "metadata": {},
   "source": [
    "### 3. Build and Evaluate a Simple Baseline Model.\n",
    "We build a baseline logistic regression model with `max_iter=1000` and `random_state=42`."
   ]
  },
  {
   "cell_type": "code",
   "execution_count": 26,
   "metadata": {},
   "outputs": [],
   "source": [
    "# Create and fit a logistic regression model\n",
    "baseline_model = LogisticRegression(max_iter=1000, random_state=42)\n",
    "baseline_model.fit(X_train_scaled, y_train)\n",
    "\n",
    "# Make predictions on the training set\n",
    "baseline_train_preds = baseline_model.predict(X_train_scaled)"
   ]
  },
  {
   "cell_type": "markdown",
   "metadata": {},
   "source": [
    "Since there doesn't appear to be any noticeable imbalance between our classes based on the value counts we got for our target variable, accuracy would be the best metric to use to assess how well our model worked. \n",
    "\n",
    "Recall also that our goal is to predict the probability of an individual being at risk of obesity. The cost of having false positives is high. We want to minimize false positives so that we are confident that when the model predicts a positive outcome (obesity risk), it is likely to be correct. \n",
    "\n",
    "The optimal indicator to use in this case would be precision since we want to reduce the number of cases where the model incorrectly predicts someone as being at risk of obesity when they are actually not. \n",
    "\n",
    "We will focus on optimizing for precision and monitor and report it to get a comprehensive understanding of our model's performance."
   ]
  },
  {
   "cell_type": "code",
   "execution_count": 27,
   "metadata": {},
   "outputs": [
    {
     "name": "stdout",
     "output_type": "stream",
     "text": [
      "Train Precision: 0.7247019486189035\n"
     ]
    }
   ],
   "source": [
    "# Calculate precision of the model for the train sets\n",
    "def evaluate_train_precision(train_true, train_pred):\n",
    "    \"\"\"\n",
    "    Evaluate the precision of a model on the training set.\n",
    "\n",
    "    Parameters:\n",
    "    - train_true (array-like): True labels of the training set.\n",
    "    - train_pred (array-like): Predicted labels on the training set.\n",
    "\n",
    "    Prints and return the precision score of the model on the test data\n",
    "    \"\"\"\n",
    "\n",
    "    # Train Set Precision\n",
    "    train_precision = precision_score(train_true, train_pred, average=\"weighted\")\n",
    "    print(f\"Train Precision: {train_precision}\")\n",
    "\n",
    "    return train_precision\n",
    "\n",
    "# Example usage:\n",
    "precision_baseline_train = evaluate_train_precision(y_train, baseline_train_preds)"
   ]
  },
  {
   "cell_type": "markdown",
   "metadata": {},
   "source": [
    "Overally, our model seems to be performing fairly well.\n",
    "\n",
    "From our precision values of 0.7247 we can see that among the instances predicted as positive (predicting obesity), our model is correct about 72.47% of the time on the test set. "
   ]
  },
  {
   "cell_type": "markdown",
   "metadata": {},
   "source": [
    "### 4. Build and Evaluate Additional Models."
   ]
  },
  {
   "cell_type": "markdown",
   "metadata": {},
   "source": [
    "#### Logistic Regression Iteration 1\n",
    "Our model is performing fairly well but could it perform better? Let us try to address any issues of class imbalance by using Synthetic Minority Over-Sampling Technique(SMOTE). We then fit another logistic regression model using similar parameters to our baseline model."
   ]
  },
  {
   "cell_type": "code",
   "execution_count": 28,
   "metadata": {},
   "outputs": [
    {
     "name": "stdout",
     "output_type": "stream",
     "text": [
      "Train Precision: 0.7454478426955424\n"
     ]
    },
    {
     "data": {
      "text/plain": [
       "0.7454478426955424"
      ]
     },
     "execution_count": 28,
     "metadata": {},
     "output_type": "execute_result"
    }
   ],
   "source": [
    "# Create a SMOTE object\n",
    "smote = SMOTE(sampling_strategy=\"auto\", random_state=42)\n",
    "\n",
    "# Fit and transform the training data using SMOTE\n",
    "X_resampled, y_resampled = smote.fit_resample(X_train_scaled, y_train)\n",
    "\n",
    "# Train a logistic regression model on the resampled data\n",
    "logreg_model1 = LogisticRegression(max_iter=1000, random_state=42)\n",
    "logreg_model1.fit(X_resampled, y_resampled)\n",
    "\n",
    "# Obtain predictions on the training set\n",
    "train_preds_smote = logreg_model1.predict(X_resampled)\n",
    "\n",
    "# Use the evaluate_model_performance function\n",
    "evaluate_train_precision(y_resampled, train_preds_smote)"
   ]
  },
  {
   "cell_type": "markdown",
   "metadata": {},
   "source": [
    "Our precision increased by about 0.02. The precision for the SMOTE model 0.7454 is higher than the precision for the baseline model 0.7247. This suggests an improvement in precision when using SMOTE to address class imbalance."
   ]
  },
  {
   "cell_type": "markdown",
   "metadata": {},
   "source": [
    "#### Logistic Regression Iteration 2\n",
    "We create a `StratifiedKFold` cross-validation strategy to ensure all of our classes in each split are represented with the same proportion. We then fit the CVScores visualizer using the `f1_weighted` scoring metric as opposed to the default metric, `accuracy`, to get a better sense of the relationship of precision in our classifier across all of our folds."
   ]
  },
  {
   "cell_type": "code",
   "execution_count": 29,
   "metadata": {},
   "outputs": [
    {
     "name": "stderr",
     "output_type": "stream",
     "text": [
      "C:\\Users\\User\\anaconda3\\envs\\learn-env\\lib\\site-packages\\sklearn\\linear_model\\_logistic.py:460: ConvergenceWarning: lbfgs failed to converge (status=1):\n",
      "STOP: TOTAL NO. of ITERATIONS REACHED LIMIT.\n",
      "\n",
      "Increase the number of iterations (max_iter) or scale the data as shown in:\n",
      "    https://scikit-learn.org/stable/modules/preprocessing.html\n",
      "Please also refer to the documentation for alternative solver options:\n",
      "    https://scikit-learn.org/stable/modules/linear_model.html#logistic-regression\n",
      "  n_iter_i = _check_optimize_result(\n",
      "C:\\Users\\User\\anaconda3\\envs\\learn-env\\lib\\site-packages\\sklearn\\linear_model\\_logistic.py:460: ConvergenceWarning: lbfgs failed to converge (status=1):\n",
      "STOP: TOTAL NO. of ITERATIONS REACHED LIMIT.\n",
      "\n",
      "Increase the number of iterations (max_iter) or scale the data as shown in:\n",
      "    https://scikit-learn.org/stable/modules/preprocessing.html\n",
      "Please also refer to the documentation for alternative solver options:\n",
      "    https://scikit-learn.org/stable/modules/linear_model.html#logistic-regression\n",
      "  n_iter_i = _check_optimize_result(\n",
      "C:\\Users\\User\\anaconda3\\envs\\learn-env\\lib\\site-packages\\sklearn\\linear_model\\_logistic.py:460: ConvergenceWarning: lbfgs failed to converge (status=1):\n",
      "STOP: TOTAL NO. of ITERATIONS REACHED LIMIT.\n",
      "\n",
      "Increase the number of iterations (max_iter) or scale the data as shown in:\n",
      "    https://scikit-learn.org/stable/modules/preprocessing.html\n",
      "Please also refer to the documentation for alternative solver options:\n",
      "    https://scikit-learn.org/stable/modules/linear_model.html#logistic-regression\n",
      "  n_iter_i = _check_optimize_result(\n",
      "C:\\Users\\User\\anaconda3\\envs\\learn-env\\lib\\site-packages\\sklearn\\linear_model\\_logistic.py:460: ConvergenceWarning: lbfgs failed to converge (status=1):\n",
      "STOP: TOTAL NO. of ITERATIONS REACHED LIMIT.\n",
      "\n",
      "Increase the number of iterations (max_iter) or scale the data as shown in:\n",
      "    https://scikit-learn.org/stable/modules/preprocessing.html\n",
      "Please also refer to the documentation for alternative solver options:\n",
      "    https://scikit-learn.org/stable/modules/linear_model.html#logistic-regression\n",
      "  n_iter_i = _check_optimize_result(\n"
     ]
    },
    {
     "name": "stdout",
     "output_type": "stream",
     "text": [
      "Cross-Validation Precision Scores: [0.88939863 0.88206043 0.87652943 0.89062438 0.85378164]\n",
      "Mean CV Precision: 0.878478902320091\n"
     ]
    },
    {
     "name": "stderr",
     "output_type": "stream",
     "text": [
      "C:\\Users\\User\\anaconda3\\envs\\learn-env\\lib\\site-packages\\sklearn\\linear_model\\_logistic.py:460: ConvergenceWarning: lbfgs failed to converge (status=1):\n",
      "STOP: TOTAL NO. of ITERATIONS REACHED LIMIT.\n",
      "\n",
      "Increase the number of iterations (max_iter) or scale the data as shown in:\n",
      "    https://scikit-learn.org/stable/modules/preprocessing.html\n",
      "Please also refer to the documentation for alternative solver options:\n",
      "    https://scikit-learn.org/stable/modules/linear_model.html#logistic-regression\n",
      "  n_iter_i = _check_optimize_result(\n"
     ]
    }
   ],
   "source": [
    "# Standardize the features\n",
    "scaler = StandardScaler()\n",
    "X_scaled = scaler.fit_transform(X)\n",
    "\n",
    "# Create a logistic regression model\n",
    "logreg_model2 = LogisticRegression(random_state=42)\n",
    "\n",
    "# Create a StratifiedKFold object (or another type of cross-validation)\n",
    "stratified_kfold = StratifiedKFold(n_splits=5, shuffle=True, random_state=42)\n",
    "\n",
    "# Perform cross-validation and calculate precision\n",
    "precision_scorer = make_scorer(precision_score, average=\"weighted\")\n",
    "cv_scores = cross_val_score(logreg_model2, X_scaled, y, cv=stratified_kfold, scoring=precision_scorer)\n",
    "\n",
    "# Print the cross-validation scores\n",
    "print(\"Cross-Validation Precision Scores:\", cv_scores)\n",
    "print(\"Mean CV Precision:\", cv_scores.mean())"
   ]
  },
  {
   "cell_type": "markdown",
   "metadata": {},
   "source": [
    "The cross-validated model outperforms both the baseline and SMOTE models. On average, it performs better in correctly classifying positive cases.\n",
    "\n",
    "The model's performance is consistent across different subsets of the data, as indicated by the relatively close values of accuracy for each fold.\n",
    "\n",
    "The mean cross-validation precision of approximately 0.878 suggests that, on average, our model correctly predicts positive cases for about 87.8% of the instances in the dataset."
   ]
  },
  {
   "cell_type": "markdown",
   "metadata": {},
   "source": [
    "#### Logistic Regression Iteration 3\n",
    "We use `GridSearchCV` to find the best possible parameters for our logistic regression model. It performs an exhaustive search of all possible combinations and gives us the best model."
   ]
  },
  {
   "cell_type": "code",
   "execution_count": 30,
   "metadata": {},
   "outputs": [
    {
     "name": "stdout",
     "output_type": "stream",
     "text": [
      "Best Hyperparameters: {'C': 100, 'penalty': 'l1', 'solver': 'liblinear'}\n",
      "Train Precision: 0.7919145781236961\n"
     ]
    },
    {
     "data": {
      "text/plain": [
       "0.7919145781236961"
      ]
     },
     "execution_count": 30,
     "metadata": {},
     "output_type": "execute_result"
    }
   ],
   "source": [
    "# Create a logistic regression model\n",
    "logreg = LogisticRegression(max_iter=1000, random_state=42)\n",
    "\n",
    "# Define the hyperparameter grid to search\n",
    "param_grid = {\n",
    "    \"penalty\": [\"l1\", \"l2\"],  # Regularization type\n",
    "    \"C\": [0.001, 0.01, 0.1, 1, 10, 100],  # Inverse of regularization strength\n",
    "    \"solver\": [\"liblinear\"],  # Solver for optimization problem\n",
    "}\n",
    "\n",
    "# Create the GridSearchCV object\n",
    "grid_search = GridSearchCV(logreg, param_grid, cv=5, scoring=\"accuracy\")\n",
    "\n",
    "# Fit the grid search to the data\n",
    "grid_search.fit(X_train_scaled, y_train)\n",
    "\n",
    "# Print the best hyperparameters\n",
    "print(\"Best Hyperparameters:\", grid_search.best_params_)\n",
    "\n",
    "# Get the best model\n",
    "best_model = grid_search.best_estimator_\n",
    "\n",
    "# Make predictions on the test set using the best model\n",
    "best_model_preds = best_model.predict(X_train_scaled)\n",
    "\n",
    "# Evaluate the best model performance on both train and test sets\n",
    "evaluate_train_precision(y_train, best_model_preds)"
   ]
  },
  {
   "cell_type": "markdown",
   "metadata": {},
   "source": [
    "We can see that the model with the best hyperparameters from GridSearchCV has higher precision compared to the SMOTE and baseline models. This suggests that the hyperparameter tuning process has resulted in a model that performs better in terms of precision. However, it performed poorly compared to the Cross-Validated model."
   ]
  },
  {
   "cell_type": "markdown",
   "metadata": {},
   "source": [
    "We can visualize the performance of all our logistic regression models using a bar graph as shown."
   ]
  },
  {
   "cell_type": "code",
   "execution_count": 31,
   "metadata": {},
   "outputs": [
    {
     "data": {
      "image/png": "[encoded data removed]",
      "text/plain": [
       "<Figure size 720x360 with 1 Axes>"
      ]
     },
     "metadata": {
      "needs_background": "light"
     },
     "output_type": "display_data"
    },
    {
     "data": {
      "text/plain": [
       "<Figure size 432x288 with 0 Axes>"
      ]
     },
     "metadata": {},
     "output_type": "display_data"
    }
   ],
   "source": [
    "# Precision scores for different models\n",
    "precision_scores = {\n",
    "    \"Baseline Model\": 0.72,  # Rounded off to two dp \n",
    "    \"SMOTE Model\": 0.75,\n",
    "    \"Cross-Validated Model\": 0.88,\n",
    "    \"GridSearchCV Model\": 0.79}\n",
    "\n",
    "# Create a DataFrame\n",
    "precision_df = pd.DataFrame(list(precision_scores.items()), columns=[\"Model\", \"Precision\"])\n",
    "\n",
    "# Plot the results\n",
    "plt.figure(figsize=(10, 5))\n",
    "plt.bar(precision_df[\"Model\"], precision_df[\"Precision\"], color=[\"blue\", \"green\", \"orange\", \"red\"])\n",
    "plt.xlabel(\"Model\")\n",
    "plt.ylabel(\"Precision\")\n",
    "plt.title(\"Comparison of Precision Scores\")\n",
    "plt.show()\n",
    "\n",
    "# Save the figure\n",
    "plt.savefig(\"images/Comparison of Precision Scores.png\")"
   ]
  },
  {
   "cell_type": "markdown",
   "metadata": {},
   "source": [
    "From the graph we can conclude that the cross-validated model had the best performance."
   ]
  },
  {
   "cell_type": "markdown",
   "metadata": {},
   "source": [
    "#### Random Forest\n",
    "Let's fit a random forest classifier and see how it performs compared to the other models."
   ]
  },
  {
   "cell_type": "code",
   "execution_count": 32,
   "metadata": {},
   "outputs": [
    {
     "name": "stdout",
     "output_type": "stream",
     "text": [
      "Train Precision: 0.9214482062536088\n"
     ]
    },
    {
     "data": {
      "text/plain": [
       "0.9214482062536088"
      ]
     },
     "execution_count": 32,
     "metadata": {},
     "output_type": "execute_result"
    }
   ],
   "source": [
    "# Create and fit a Random Forest Classifier\n",
    "RForest = RandomForestClassifier(n_estimators=100, max_depth=5, random_state=42)\n",
    "RForest.fit(X_train_scaled, y_train)\n",
    "\n",
    "# Make predictions on the training set\n",
    "RForest_train_preds = RForest.predict(X_train_scaled)\n",
    "\n",
    "# Evaluate the performance of the Random Forest model\n",
    "evaluate_train_precision(y_train, RForest_train_preds)"
   ]
  },
  {
   "cell_type": "markdown",
   "metadata": {},
   "source": [
    "The precision value for the random forest model is approximately 0.921.\n",
    "The random forest model is better at correctly identifying positive cases (predicting the likelihood of obesity) without making as many false positive predictions compared to the logistic regression models."
   ]
  },
  {
   "cell_type": "markdown",
   "metadata": {},
   "source": [
    "#### Random Forest Iteration 1\n",
    "We can examine how important each feature ended up being in our random forest model. We check the `feature_importances_` attribute of the trained model to see what it displays."
   ]
  },
  {
   "cell_type": "code",
   "execution_count": 33,
   "metadata": {
    "scrolled": true
   },
   "outputs": [
    {
     "data": {
      "image/png": "[encoded data removed]",
      "text/plain": [
       "<Figure size 720x432 with 1 Axes>"
      ]
     },
     "metadata": {
      "needs_background": "light"
     },
     "output_type": "display_data"
    },
    {
     "data": {
      "text/plain": [
       "<Figure size 432x288 with 0 Axes>"
      ]
     },
     "metadata": {},
     "output_type": "display_data"
    }
   ],
   "source": [
    "# Get feature importances from the trained model\n",
    "feature_importances = RForest.feature_importances_\n",
    "\n",
    "# Get the names of the features\n",
    "feature_names = X.columns  \n",
    "\n",
    "# Sort indices in descending order based on feature importances\n",
    "indices = np.argsort(feature_importances)[::-1]\n",
    "\n",
    "# Plot the feature importances\n",
    "plt.figure(figsize=(10, 6))\n",
    "plt.bar(range(X.shape[1]), feature_importances[indices], align=\"center\")\n",
    "plt.xticks(range(X.shape[1]), feature_names[indices], rotation=90)\n",
    "plt.xlabel(\"Feature\")\n",
    "plt.ylabel(\"Importance\")\n",
    "plt.title(\"Feature Importances of Random Forest Model\")\n",
    "plt.show()\n",
    "\n",
    "# Save the figure\n",
    "plt.savefig(\"images/Feature Importances of Random Forest Model.png\")"
   ]
  },
  {
   "cell_type": "markdown",
   "metadata": {},
   "source": [
    "Weight has the highest importance, indicating that it strongly influences the model's predictions. `FCVC`, `Age`, `Height`, `Gender`, `family_history_with_overweight`, `NCP`, `CAEC` and `TUE` also contribute significantly, while other features have lower importance."
   ]
  },
  {
   "cell_type": "markdown",
   "metadata": {},
   "source": [
    "In an attempt to optimize performance of the model, we narrow our features based on the results. We can see that the features from `0.02` seem to be unimportant for our model therefore we set our threshold value to 0.02 and refit the model to check whether using less features give us better performance."
   ]
  },
  {
   "cell_type": "code",
   "execution_count": 34,
   "metadata": {},
   "outputs": [
    {
     "name": "stdout",
     "output_type": "stream",
     "text": [
      "Train Precision: 0.9113745701054824\n"
     ]
    },
    {
     "data": {
      "text/plain": [
       "0.9113745701054824"
      ]
     },
     "execution_count": 34,
     "metadata": {},
     "output_type": "execute_result"
    }
   ],
   "source": [
    "# Select a threshold for feature importance\n",
    "threshold = 0.02 \n",
    "\n",
    "# Identify features to keep based on the threshold\n",
    "selected_features = feature_names[feature_importances > threshold]\n",
    "\n",
    "# Subset your training data to keep only the selected features\n",
    "X_train_selected = X_train[selected_features]\n",
    "\n",
    "# Train your model on the subset of features using the training set\n",
    "RForest.fit(X_train_selected, y_train)\n",
    "\n",
    "# Make predictions on the training set\n",
    "train_preds_selected = RForest.predict(X_train_selected)\n",
    "\n",
    "# Evaluate model performance using the function\n",
    "evaluate_train_precision(y_train, train_preds_selected)"
   ]
  },
  {
   "cell_type": "markdown",
   "metadata": {},
   "source": [
    "After this second iteration of the random forest model, we can see that removing the features that are not important to our model does not improve our model's performance. Using all the features gives us better metrics. This suggests that these features contribute collectively to the model's predictive performance."
   ]
  },
  {
   "cell_type": "markdown",
   "metadata": {},
   "source": [
    "### 5. Choose and Evaluate a Final Model. \n",
    "Which of our model had the best performance?\n",
    "\n",
    "We instantiate our `final_model` with the best model and hyperparameters.\n",
    "We found that the model that performed best by giving us the highest precision(0.92) was the Random Forest model that made use of all the features. We use this model to fit our final model and evaluate the metrics for this model on our train and test sets."
   ]
  },
  {
   "cell_type": "code",
   "execution_count": 35,
   "metadata": {},
   "outputs": [
    {
     "data": {
      "text/html": [
       "<style>#sk-container-id-1 {color: black;}#sk-container-id-1 pre{padding: 0;}#sk-container-id-1 div.sk-toggleable {background-color: white;}#sk-container-id-1 label.sk-toggleable__label {cursor: pointer;display: block;width: 100%;margin-bottom: 0;padding: 0.3em;box-sizing: border-box;text-align: center;}#sk-container-id-1 label.sk-toggleable__label-arrow:before {content: \"▸\";float: left;margin-right: 0.25em;color: #696969;}#sk-container-id-1 label.sk-toggleable__label-arrow:hover:before {color: black;}#sk-container-id-1 div.sk-estimator:hover label.sk-toggleable__label-arrow:before {color: black;}#sk-container-id-1 div.sk-toggleable__content {max-height: 0;max-width: 0;overflow: hidden;text-align: left;background-color: #f0f8ff;}#sk-container-id-1 div.sk-toggleable__content pre {margin: 0.2em;color: black;border-radius: 0.25em;background-color: #f0f8ff;}#sk-container-id-1 input.sk-toggleable__control:checked~div.sk-toggleable__content {max-height: 200px;max-width: 100%;overflow: auto;}#sk-container-id-1 input.sk-toggleable__control:checked~label.sk-toggleable__label-arrow:before {content: \"▾\";}#sk-container-id-1 div.sk-estimator input.sk-toggleable__control:checked~label.sk-toggleable__label {background-color: #d4ebff;}#sk-container-id-1 div.sk-label input.sk-toggleable__control:checked~label.sk-toggleable__label {background-color: #d4ebff;}#sk-container-id-1 input.sk-hidden--visually {border: 0;clip: rect(1px 1px 1px 1px);clip: rect(1px, 1px, 1px, 1px);height: 1px;margin: -1px;overflow: hidden;padding: 0;position: absolute;width: 1px;}#sk-container-id-1 div.sk-estimator {font-family: monospace;background-color: #f0f8ff;border: 1px dotted black;border-radius: 0.25em;box-sizing: border-box;margin-bottom: 0.5em;}#sk-container-id-1 div.sk-estimator:hover {background-color: #d4ebff;}#sk-container-id-1 div.sk-parallel-item::after {content: \"\";width: 100%;border-bottom: 1px solid gray;flex-grow: 1;}#sk-container-id-1 div.sk-label:hover label.sk-toggleable__label {background-color: #d4ebff;}#sk-container-id-1 div.sk-serial::before {content: \"\";position: absolute;border-left: 1px solid gray;box-sizing: border-box;top: 0;bottom: 0;left: 50%;z-index: 0;}#sk-container-id-1 div.sk-serial {display: flex;flex-direction: column;align-items: center;background-color: white;padding-right: 0.2em;padding-left: 0.2em;position: relative;}#sk-container-id-1 div.sk-item {position: relative;z-index: 1;}#sk-container-id-1 div.sk-parallel {display: flex;align-items: stretch;justify-content: center;background-color: white;position: relative;}#sk-container-id-1 div.sk-item::before, #sk-container-id-1 div.sk-parallel-item::before {content: \"\";position: absolute;border-left: 1px solid gray;box-sizing: border-box;top: 0;bottom: 0;left: 50%;z-index: -1;}#sk-container-id-1 div.sk-parallel-item {display: flex;flex-direction: column;z-index: 1;position: relative;background-color: white;}#sk-container-id-1 div.sk-parallel-item:first-child::after {align-self: flex-end;width: 50%;}#sk-container-id-1 div.sk-parallel-item:last-child::after {align-self: flex-start;width: 50%;}#sk-container-id-1 div.sk-parallel-item:only-child::after {width: 0;}#sk-container-id-1 div.sk-dashed-wrapped {border: 1px dashed gray;margin: 0 0.4em 0.5em 0.4em;box-sizing: border-box;padding-bottom: 0.4em;background-color: white;}#sk-container-id-1 div.sk-label label {font-family: monospace;font-weight: bold;display: inline-block;line-height: 1.2em;}#sk-container-id-1 div.sk-label-container {text-align: center;}#sk-container-id-1 div.sk-container {/* jupyter's `normalize.less` sets `[hidden] { display: none; }` but bootstrap.min.css set `[hidden] { display: none !important; }` so we also need the `!important` here to be able to override the default hidden behavior on the sphinx rendered scikit-learn.org. See: https://github.com/scikit-learn/scikit-learn/issues/21755 */display: inline-block !important;position: relative;}#sk-container-id-1 div.sk-text-repr-fallback {display: none;}</style><div id=\"sk-container-id-1\" class=\"sk-top-container\"><div class=\"sk-text-repr-fallback\"><pre>RandomForestClassifier(max_depth=5, random_state=42)</pre><b>In a Jupyter environment, please rerun this cell to show the HTML representation or trust the notebook. <br />On GitHub, the HTML representation is unable to render, please try loading this page with nbviewer.org.</b></div><div class=\"sk-container\" hidden><div class=\"sk-item\"><div class=\"sk-estimator sk-toggleable\"><input class=\"sk-toggleable__control sk-hidden--visually\" id=\"sk-estimator-id-1\" type=\"checkbox\" checked><label for=\"sk-estimator-id-1\" class=\"sk-toggleable__label sk-toggleable__label-arrow\">RandomForestClassifier</label><div class=\"sk-toggleable__content\"><pre>RandomForestClassifier(max_depth=5, random_state=42)</pre></div></div></div></div></div>"
      ],
      "text/plain": [
       "RandomForestClassifier(max_depth=5, random_state=42)"
      ]
     },
     "execution_count": 35,
     "metadata": {},
     "output_type": "execute_result"
    }
   ],
   "source": [
    "final_model = RandomForestClassifier(n_estimators=100, max_depth=5, random_state=42)\n",
    "final_model.fit(X_train_scaled, y_train)"
   ]
  },
  {
   "cell_type": "markdown",
   "metadata": {},
   "source": [
    "We now evaluate the accuracy, precision, recall and F1 score for our model."
   ]
  },
  {
   "cell_type": "code",
   "execution_count": 36,
   "metadata": {},
   "outputs": [],
   "source": [
    "# Make predictions on the training set\n",
    "final_train_preds = final_model.predict(X_train_scaled)\n",
    "\n",
    "# Make predictions on the test set\n",
    "final_test_preds = final_model.predict(X_test_scaled)"
   ]
  },
  {
   "cell_type": "code",
   "execution_count": 37,
   "metadata": {},
   "outputs": [
    {
     "name": "stdout",
     "output_type": "stream",
     "text": [
      "Train Precision: 0.9214482062536088\n",
      "Test Precision: 0.8435438255496746\n",
      "------------\n",
      "Train Accuracy: 0.9209860935524652\n",
      "Test Accuracy: 0.8352272727272727\n",
      "------------\n",
      "Train Recall: 0.9209860935524652\n",
      "Test Recall: 0.8352272727272727\n",
      "------------\n",
      "Train F1 Score: 0.9207188684243659\n",
      "Test F1 Score: 0.8330478577779107\n"
     ]
    }
   ],
   "source": [
    "# Calculate accuracy and precision for train and test sets\n",
    "def evaluate_model_performance(train_true, train_pred, test_true, test_pred):\n",
    "    \"\"\"\n",
    "    Evaluate the performance of a model on both training and testing sets.\n",
    "\n",
    "    Parameters:\n",
    "    - train_true (array-like): True labels of the training set.\n",
    "    - train_pred (array-like): Predicted labels on the training set.\n",
    "    - test_true (array-like): True labels of the testing set.\n",
    "    - test_pred (array-like): Predicted labels on the testing set.\n",
    "\n",
    "    Prints and returns:\n",
    "    - Train Set Metrics:\n",
    "        - Precision score, accuracy score, recall score, F1 score and classification report on the training set.\n",
    "    - Test Set Metrics:\n",
    "        - Precision, accuracy , recall , F1 score and classification report on the testing set.\n",
    "    \"\"\"\n",
    "    \n",
    "    # Train Set Precision\n",
    "    train_precision = precision_score(train_true, train_pred, average=\"weighted\")\n",
    "    print(f\"Train Precision: {train_precision}\")\n",
    "    \n",
    "     # Test Set Precision\n",
    "    test_precision = precision_score(test_true, test_pred, average=\"weighted\")\n",
    "    print(f\"Test Precision: {test_precision}\")\n",
    "    \n",
    "    print(\"------------\")\n",
    "    \n",
    "    # Train Set Accuracy\n",
    "    train_accuracy = accuracy_score(train_true, train_pred)\n",
    "    print(f\"Train Accuracy: {train_accuracy}\")\n",
    "    \n",
    "    # Test Set Accuracy\n",
    "    test_accuracy = accuracy_score(test_true, test_pred)\n",
    "    print(f\"Test Accuracy: {test_accuracy}\")\n",
    "    \n",
    "    print(\"------------\")\n",
    "\n",
    "    # Train Set Recall\n",
    "    train_recall = recall_score(train_true, train_pred, average=\"weighted\")\n",
    "    print(f\"Train Recall: {train_recall}\")\n",
    "    \n",
    "    # Test Set Recall\n",
    "    test_recall = recall_score(test_true, test_pred, average=\"weighted\")\n",
    "    print(f\"Test Recall: {test_recall}\")\n",
    "    \n",
    "    print(\"------------\")    \n",
    "\n",
    "    # Train Set F1-Score\n",
    "    train_f1 = f1_score(train_true, train_pred, average=\"weighted\")\n",
    "    print(f\"Train F1 Score: {train_f1}\")\n",
    "    \n",
    "    # Test Set F1-Score\n",
    "    test_f1 = f1_score(test_true, test_pred, average=\"weighted\")\n",
    "    print(f\"Test F1 Score: {test_f1}\") \n",
    "\n",
    "# Evaluate our baseline model performance\n",
    "evaluate_model_performance(y_train, final_train_preds, y_test, final_test_preds)    "
   ]
  },
  {
   "cell_type": "markdown",
   "metadata": {},
   "source": [
    "The metrics for the Random Forest model show a high level of consistency between the training and test sets, which is generally a good sign.\n",
    "\n",
    "The precision values for both the training and test sets are high, indicating that the model is making accurate positive predictions. There is a slight drop from training to test, but it's not a significant difference. The precision(0.92) is also better compared to the logistic models.\n",
    "\n",
    "Given the consistency in performance between the training and test sets, it doesn't appear that the model is overfitting. The model seems to generalize well to new, unseen data."
   ]
  },
  {
   "cell_type": "markdown",
   "metadata": {},
   "source": [
    "# Evaluation\n",
    "Based on the metrics for our final model, it demonstrates strong performance in terms of precision, accuracy, recall, and F1 score on both the training and test sets. The precision on the training set is notably high at `0.921`, indicating that the model is effective in minimizing false positives, which is crucial in the context of predicting the risk of someone being obese. This is particularly important for healthcare providers as it ensures that when the model predicts a positive outcome (risk of obesity), it is highly reliable.\n",
    "\n",
    "However, there is a slight drop in precision on the test set compared to the training set, which is not uncommon. The test precision of `0.844` still indicates a robust ability to correctly classify individuals at risk of obesity. The overall accuracy, recall, and F1 score are also impressive, demonstrating a well-balanced model that performs consistently across various metrics.\n",
    "\n",
    "In healthcare, high precision is crucial to avoid false alarms, ensuring that when the model predicts a positive outcome, the healthcare providers can trust the result. The strong performance on the test set suggests that the model generalizes well to unseen data, making it a reliable tool for healthcare providers in assessing obesity risk. "
   ]
  },
  {
   "cell_type": "markdown",
   "metadata": {},
   "source": [
    "# Conclusion\n",
    "The final model, a Random Forest Classifier, has demonstrated great performance in predicting the risk of obesity. With high precision, accuracy, recall, and F1 score on both the training and test sets, the model showcases its effectiveness in identifying individuals at risk. This precision is particularly crucial in healthcare, where minimizing false positives is essential to ensure reliable predictions."
   ]
  },
  {
   "cell_type": "markdown",
   "metadata": {},
   "source": [
    "# Recommendations\n",
    "- **Intergrate model into workflow.** Based on the model's success, it is recommended to integrate it into the healthcare provider's workflow for assessing obesity risk. Healthcare professionals can use the model as an additional tool to identify individuals who may benefit from preventive interventions or closer monitoring.\n",
    "- **Collaboration between data scientists and healthcare providers** is recommended to fine-tune the model based on real-world feedback and evolving healthcare practices. Considering the specific requirements and constraints of the healthcare setting, potential adjustments may be made based on the stakeholders' feedback."
   ]
  },
  {
   "cell_type": "markdown",
   "metadata": {},
   "source": [
    "# Next Steps\n",
    "- **Continuous Monitoring and Improvement:** Regularly monitor the model's performance in a real-world healthcare setting. Collect feedback from healthcare providers to identify any challenges or areas for improvement.\n",
    "- **Extended Stakeholder Involvement:** Involve a broader range of stakeholders, including patients, in the model development process to incorporate diverse perspectives and address ethical considerations.\n",
    "- **Model Updates:** Periodically retrain the model with new data to ensure its relevance and effectiveness over time. Stay informed about advancements in obesity research to incorporate the latest findings into the model."
   ]
  }
 ],
 "metadata": {
  "kernelspec": {
   "display_name": "Python (learn-env)",
   "language": "python",
   "name": "learn-env"
  },
  "language_info": {
   "codemirror_mode": {
    "name": "ipython",
    "version": 3
   },
   "file_extension": ".py",
   "mimetype": "text/x-python",
   "name": "python",
   "nbconvert_exporter": "python",
   "pygments_lexer": "ipython3",
   "version": "3.8.5"
  }
 },
 "nbformat": 4,
 "nbformat_minor": 4
}
